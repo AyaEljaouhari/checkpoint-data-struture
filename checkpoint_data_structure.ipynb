{
  "nbformat": 4,
  "nbformat_minor": 0,
  "metadata": {
    "colab": {
      "provenance": []
    },
    "kernelspec": {
      "name": "python3",
      "display_name": "Python 3"
    },
    "language_info": {
      "name": "python"
    }
  },
  "cells": [
    {
      "cell_type": "code",
      "execution_count": 3,
      "metadata": {
        "colab": {
          "base_uri": "https://localhost:8080/"
        },
        "id": "_sax57nw3NAt",
        "outputId": "d7ae1762-e160-47ea-a06b-4163584acb25"
      },
      "outputs": [
        {
          "output_type": "stream",
          "name": "stdout",
          "text": [
            "36\n"
          ]
        }
      ],
      "source": [
        "s=1\n",
        "list1=[2,3,6]\n",
        "for x in list1:\n",
        "  s=s*x\n",
        "print(s)"
      ]
    },
    {
      "cell_type": "code",
      "source": [
        "def last(n):\n",
        "  return n[-1]\n",
        "def sort(a):\n",
        "  return sorted(a,key=last)\n",
        "\n",
        "a= [(2, 5), (1, 2), (4, 4), (2, 3), (2, 1)]\n",
        "print(\"sorted:\")\n",
        "print(sort(a))\n",
        "\n"
      ],
      "metadata": {
        "colab": {
          "base_uri": "https://localhost:8080/"
        },
        "id": "eOExGc3y38XA",
        "outputId": "683936b1-03d0-4c00-82a5-90fc6a3a9ce1"
      },
      "execution_count": 6,
      "outputs": [
        {
          "output_type": "stream",
          "name": "stdout",
          "text": [
            "sorted:\n",
            "[(2, 1), (1, 2), (2, 3), (4, 4), (2, 5)]\n"
          ]
        }
      ]
    },
    {
      "cell_type": "code",
      "source": [
        "d1={'a': 100, 'b': 200, 'c':300}\n",
        "d2={'a': 300, 'b': 200, 'd':400}\n",
        "for key in d1:\n",
        "  if key in d2:\n",
        "    d2[key]=d1[key]+d2[key]\n",
        "  else:\n",
        "    d2[key]=d1[key]\n",
        "print(d2)\n"
      ],
      "metadata": {
        "colab": {
          "base_uri": "https://localhost:8080/"
        },
        "id": "gRxWdtnGCWcJ",
        "outputId": "7e3d408f-9ff7-4eab-c50f-fd675f065986"
      },
      "execution_count": 7,
      "outputs": [
        {
          "output_type": "stream",
          "name": "stdout",
          "text": [
            "{'a': 400, 'b': 400, 'd': 400, 'c': 300}\n"
          ]
        }
      ]
    },
    {
      "cell_type": "code",
      "source": [
        "inp=int(input(\"How many keys do you wish to have?\"))\n",
        "\n",
        "d1=dict()\n",
        "\n",
        "for i in range(1,inp+1):\n",
        "  d1[i]=i*i\n",
        "print(d1)"
      ],
      "metadata": {
        "colab": {
          "base_uri": "https://localhost:8080/"
        },
        "id": "5Ha1jLWeFuMk",
        "outputId": "330a5020-6989-4159-ec49-c515f12af440"
      },
      "execution_count": 8,
      "outputs": [
        {
          "output_type": "stream",
          "name": "stdout",
          "text": [
            "How many keys do you wish to have?8\n",
            "{1: 1, 2: 4, 3: 9, 4: 16, 5: 25, 6: 36, 7: 49, 8: 64}\n"
          ]
        }
      ]
    },
    {
      "cell_type": "code",
      "source": [
        "list= [('item1', '12.20'), ('item2', '15.10'), ('item3', '24.5')]\n",
        "sorted(list,key=lambda x:float(x[1]),reverse=True)"
      ],
      "metadata": {
        "colab": {
          "base_uri": "https://localhost:8080/"
        },
        "id": "FLJQ6oIxL3sW",
        "outputId": "365b38fc-fc78-470f-cbef-32cf7509df97"
      },
      "execution_count": 9,
      "outputs": [
        {
          "output_type": "execute_result",
          "data": {
            "text/plain": [
              "[('item3', '24.5'), ('item2', '15.10'), ('item1', '12.20')]"
            ]
          },
          "metadata": {},
          "execution_count": 9
        }
      ]
    }
  ]
}